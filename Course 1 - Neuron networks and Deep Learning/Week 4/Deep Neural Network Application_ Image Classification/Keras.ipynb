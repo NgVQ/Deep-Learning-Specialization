{
 "cells": [
  {
   "cell_type": "code",
   "execution_count": 9,
   "metadata": {},
   "outputs": [],
   "source": [
    "import tensorflow as tf\n",
    "from keras import layers\n",
    "from keras.layers import Input, Dense, Activation, ZeroPadding2D, BatchNormalization, Flatten, Conv2D\n",
    "from keras.layers import AveragePooling2D, MaxPooling2D, Dropout, GlobalMaxPooling2D, GlobalAveragePooling2D\n",
    "from keras.preprocessing import image\n",
    "from keras.preprocessing.image import ImageDataGenerator\n",
    "import time\n",
    "import numpy as np\n",
    "import h5py\n",
    "import matplotlib.pyplot as plt\n",
    "import scipy\n",
    "from PIL import Image\n",
    "from scipy import ndimage\n",
    "from dnn_app_utils_v3 import *\n"
   ]
  },
  {
   "cell_type": "code",
   "execution_count": 10,
   "metadata": {},
   "outputs": [
    {
     "output_type": "stream",
     "name": "stdout",
     "text": [
      "number of training examples = 209\nnumber of test examples = 50\nX_train shape: (209, 64, 64, 3)\nY_train shape: (209, 1)\nX_test shape: (50, 64, 64, 3)\nY_test shape: (50, 1)\n"
     ]
    }
   ],
   "source": [
    "X_train_orig, Y_train_orig, X_test_orig, Y_test_orig, classes = load_data()\n",
    "\n",
    "# Normalize image vectors\n",
    "X_train = X_train_orig/255.\n",
    "X_test = X_test_orig/255.\n",
    "\n",
    "# Reshape\n",
    "Y_train = Y_train_orig.T\n",
    "Y_test = Y_test_orig.T\n",
    "\n",
    "print (\"number of training examples = \" + str(X_train.shape[0]))\n",
    "print (\"number of test examples = \" + str(X_test.shape[0]))\n",
    "print (\"X_train shape: \" + str(X_train.shape))\n",
    "print (\"Y_train shape: \" + str(Y_train.shape))\n",
    "print (\"X_test shape: \" + str(X_test.shape))\n",
    "print (\"Y_test shape: \" + str(Y_test.shape))"
   ]
  },
  {
   "cell_type": "code",
   "execution_count": null,
   "metadata": {},
   "outputs": [],
   "source": [
    "train_datagen = ImageDataGenerator(\n",
    "    rescale=1./255,\n",
    "    rotation_range=40,\n",
    "    width_shift_range=0.2,\n",
    "    height_shift_range=0.2,\n",
    "    shear_range=0.2,\n",
    "    zoom_range=0.2,\n",
    "    horizontal_flip=True,\n",
    "    fill_mode='nearest')\n",
    "\n",
    "validation_datagen = ImageDataGenerator(rescale=1/255)"
   ]
  },
  {
   "cell_type": "code",
   "execution_count": 11,
   "metadata": {},
   "outputs": [],
   "source": [
    "model = tf.keras.models.Sequential(\n",
    "    [   tf.keras.layers.Conv2D(64,(3,3),activation = 'relu',input_shape = (64,64,3)),\n",
    "        tf.keras.layers.MaxPooling2D(2,2),\n",
    "        tf.keras.layers.Conv2D(32,(3,3),activation = 'relu'),\n",
    "        tf.keras.layers.MaxPooling2D(2,2),\n",
    "        tf.keras.layers.Conv2D(16,(3,3),activation = 'relu'),\n",
    "        tf.keras.layers.MaxPooling2D(2,2),\n",
    "        tf.keras.layers.Flatten(),\n",
    "        tf.keras.layers.Dense(256,activation = 'relu'),\n",
    "        tf.keras.layers.Dense(20,activation ='relu'),\n",
    "        tf.keras.layers.Dense(7, activation = 'relu'),\n",
    "        tf.keras.layers.Dense(5, activation = 'relu'),\n",
    "        tf.keras.layers.Dense(1, activation = 'sigmoid')\n",
    "    ])\n"
   ]
  },
  {
   "cell_type": "code",
   "execution_count": 12,
   "metadata": {},
   "outputs": [
    {
     "output_type": "stream",
     "name": "stdout",
     "text": [
      "Model: \"sequential_1\"\n_________________________________________________________________\nLayer (type)                 Output Shape              Param #   \n=================================================================\nconv2d_3 (Conv2D)            (None, 62, 62, 64)        1792      \n_________________________________________________________________\nmax_pooling2d_3 (MaxPooling2 (None, 31, 31, 64)        0         \n_________________________________________________________________\nconv2d_4 (Conv2D)            (None, 29, 29, 32)        18464     \n_________________________________________________________________\nmax_pooling2d_4 (MaxPooling2 (None, 14, 14, 32)        0         \n_________________________________________________________________\nconv2d_5 (Conv2D)            (None, 12, 12, 16)        4624      \n_________________________________________________________________\nmax_pooling2d_5 (MaxPooling2 (None, 6, 6, 16)          0         \n_________________________________________________________________\nflatten_1 (Flatten)          (None, 576)               0         \n_________________________________________________________________\ndense_5 (Dense)              (None, 256)               147712    \n_________________________________________________________________\ndense_6 (Dense)              (None, 20)                5140      \n_________________________________________________________________\ndense_7 (Dense)              (None, 7)                 147       \n_________________________________________________________________\ndense_8 (Dense)              (None, 5)                 40        \n_________________________________________________________________\ndense_9 (Dense)              (None, 1)                 6         \n=================================================================\nTotal params: 177,925\nTrainable params: 177,925\nNon-trainable params: 0\n_________________________________________________________________\n"
     ]
    }
   ],
   "source": [
    "model.summary()"
   ]
  },
  {
   "cell_type": "code",
   "execution_count": 13,
   "metadata": {},
   "outputs": [],
   "source": [
    "model.compile(optimizer = 'adam', loss='binary_crossentropy', metrics=['acc'])"
   ]
  },
  {
   "cell_type": "code",
   "execution_count": 14,
   "metadata": {},
   "outputs": [
    {
     "output_type": "stream",
     "name": "stdout",
     "text": [
      "Train on 209 samples\n",
      "Epoch 1/20\n",
      "209/209 [==============================] - 1s 7ms/sample - loss: 0.6406 - acc: 0.6555\n",
      "Epoch 2/20\n",
      "209/209 [==============================] - 1s 5ms/sample - loss: 0.5507 - acc: 0.6555\n",
      "Epoch 3/20\n",
      "209/209 [==============================] - 1s 6ms/sample - loss: 0.4539 - acc: 0.7225\n",
      "Epoch 4/20\n",
      "209/209 [==============================] - 1s 5ms/sample - loss: 0.4373 - acc: 0.8134\n",
      "Epoch 5/20\n",
      "209/209 [==============================] - 1s 6ms/sample - loss: 0.3936 - acc: 0.8373\n",
      "Epoch 6/20\n",
      "209/209 [==============================] - 1s 5ms/sample - loss: 0.3809 - acc: 0.8469\n",
      "Epoch 7/20\n",
      "209/209 [==============================] - 1s 6ms/sample - loss: 0.4326 - acc: 0.8086\n",
      "Epoch 8/20\n",
      "209/209 [==============================] - 1s 6ms/sample - loss: 0.4046 - acc: 0.7943\n",
      "Epoch 9/20\n",
      "209/209 [==============================] - 1s 5ms/sample - loss: 0.3730 - acc: 0.8421\n",
      "Epoch 10/20\n",
      "209/209 [==============================] - 1s 5ms/sample - loss: 0.3462 - acc: 0.8517\n",
      "Epoch 11/20\n",
      "209/209 [==============================] - 1s 6ms/sample - loss: 0.3763 - acc: 0.8565\n",
      "Epoch 12/20\n",
      "209/209 [==============================] - 1s 5ms/sample - loss: 0.4148 - acc: 0.8038\n",
      "Epoch 13/20\n",
      "209/209 [==============================] - 1s 6ms/sample - loss: 0.3519 - acc: 0.8565\n",
      "Epoch 14/20\n",
      "209/209 [==============================] - 1s 6ms/sample - loss: 0.3428 - acc: 0.8517\n",
      "Epoch 15/20\n",
      "209/209 [==============================] - 1s 6ms/sample - loss: 0.3507 - acc: 0.8325\n",
      "Epoch 16/20\n",
      "209/209 [==============================] - 1s 6ms/sample - loss: 0.3349 - acc: 0.8612\n",
      "Epoch 17/20\n",
      "209/209 [==============================] - 1s 5ms/sample - loss: 0.3029 - acc: 0.8852\n",
      "Epoch 18/20\n",
      "209/209 [==============================] - 1s 6ms/sample - loss: 0.2786 - acc: 0.9043\n",
      "Epoch 19/20\n",
      "209/209 [==============================] - 1s 6ms/sample - loss: 0.2877 - acc: 0.8947\n",
      "Epoch 20/20\n",
      "209/209 [==============================] - 1s 6ms/sample - loss: 0.4034 - acc: 0.8421\n"
     ]
    },
    {
     "output_type": "execute_result",
     "data": {
      "text/plain": [
       "<tensorflow.python.keras.callbacks.History at 0x25b801e6988>"
      ]
     },
     "metadata": {},
     "execution_count": 14
    }
   ],
   "source": [
    "model.fit(X_train,Y_train,epochs = 20,batch_size = 5)"
   ]
  },
  {
   "cell_type": "code",
   "execution_count": 15,
   "metadata": {},
   "outputs": [
    {
     "output_type": "stream",
     "name": "stdout",
     "text": [
      "50/50 [==============================] - 0s 3ms/sample - loss: 1.4385 - acc: 0.6000\n"
     ]
    },
    {
     "output_type": "execute_result",
     "data": {
      "text/plain": [
       "[1.43845853805542, 0.6]"
      ]
     },
     "metadata": {},
     "execution_count": 15
    }
   ],
   "source": [
    "model.evaluate(X_test,Y_test)"
   ]
  },
  {
   "cell_type": "code",
   "execution_count": 16,
   "metadata": {},
   "outputs": [
    {
     "output_type": "execute_result",
     "data": {
      "text/plain": [
       "array([[1.63272321e-02],\n",
       "       [1.13427639e-04],\n",
       "       [2.24146843e-02],\n",
       "       [0.00000000e+00],\n",
       "       [1.19389623e-01],\n",
       "       [2.08837658e-01],\n",
       "       [2.01221228e-01],\n",
       "       [6.28578186e-01],\n",
       "       [4.67896461e-06],\n",
       "       [7.24464655e-04],\n",
       "       [6.29198253e-01],\n",
       "       [6.87972903e-02],\n",
       "       [6.25037611e-01],\n",
       "       [2.48334289e-01],\n",
       "       [9.20442939e-02],\n",
       "       [1.10268593e-06],\n",
       "       [2.56299973e-04],\n",
       "       [5.19134998e-02],\n",
       "       [2.83916622e-01],\n",
       "       [4.48879898e-01],\n",
       "       [0.00000000e+00],\n",
       "       [6.66925311e-03],\n",
       "       [4.45392728e-03],\n",
       "       [1.02733374e-02],\n",
       "       [6.26971483e-01],\n",
       "       [5.02052307e-02],\n",
       "       [2.11204112e-01],\n",
       "       [5.75737238e-01],\n",
       "       [1.70171261e-05],\n",
       "       [1.79718137e-02],\n",
       "       [2.24542618e-03],\n",
       "       [3.84270251e-02],\n",
       "       [9.60022211e-03],\n",
       "       [1.89236552e-01],\n",
       "       [5.20348549e-05],\n",
       "       [0.00000000e+00],\n",
       "       [2.18527168e-01],\n",
       "       [2.98023224e-08],\n",
       "       [6.25037611e-01],\n",
       "       [5.67160487e-01],\n",
       "       [1.80108756e-01],\n",
       "       [6.09725177e-01],\n",
       "       [3.47119570e-03],\n",
       "       [2.52559781e-03],\n",
       "       [2.20537186e-06],\n",
       "       [0.00000000e+00],\n",
       "       [7.74860382e-07],\n",
       "       [5.63286245e-01],\n",
       "       [1.23976171e-02],\n",
       "       [0.00000000e+00],\n",
       "       [4.76255298e-01],\n",
       "       [1.18529797e-03],\n",
       "       [3.62212062e-02],\n",
       "       [3.88655066e-01],\n",
       "       [5.32854795e-02],\n",
       "       [1.73870325e-02],\n",
       "       [6.06661320e-01],\n",
       "       [2.63369322e-01],\n",
       "       [4.68905777e-01],\n",
       "       [6.16365135e-01],\n",
       "       [6.25037611e-01],\n",
       "       [5.80945611e-01],\n",
       "       [1.67070001e-01],\n",
       "       [2.70448625e-02],\n",
       "       [0.00000000e+00],\n",
       "       [6.25037611e-01],\n",
       "       [1.25169754e-06],\n",
       "       [3.18765640e-04],\n",
       "       [1.90436840e-05],\n",
       "       [1.04904175e-04],\n",
       "       [0.00000000e+00],\n",
       "       [3.65850151e-01],\n",
       "       [1.10341966e-01],\n",
       "       [1.88758969e-03],\n",
       "       [0.00000000e+00],\n",
       "       [8.03468227e-02],\n",
       "       [0.00000000e+00],\n",
       "       [9.77516174e-05],\n",
       "       [4.04844284e-02],\n",
       "       [7.95722008e-05],\n",
       "       [6.25037611e-01],\n",
       "       [4.05311584e-06],\n",
       "       [3.22762430e-02],\n",
       "       [6.08180285e-01],\n",
       "       [1.21806979e-01],\n",
       "       [1.77924961e-01],\n",
       "       [2.59599388e-02],\n",
       "       [4.55379486e-05],\n",
       "       [1.70880556e-03],\n",
       "       [0.00000000e+00],\n",
       "       [6.55651093e-07],\n",
       "       [7.46123791e-02],\n",
       "       [4.21867967e-02],\n",
       "       [6.25037611e-01],\n",
       "       [5.63731015e-01],\n",
       "       [1.12421989e-01],\n",
       "       [7.43279159e-02],\n",
       "       [6.25122309e-01],\n",
       "       [4.41831529e-01],\n",
       "       [0.00000000e+00],\n",
       "       [3.91811132e-04],\n",
       "       [5.61991751e-01],\n",
       "       [2.81792700e-01],\n",
       "       [0.00000000e+00],\n",
       "       [5.77545762e-01],\n",
       "       [5.02816141e-02],\n",
       "       [3.53154749e-01],\n",
       "       [1.28368139e-01],\n",
       "       [6.25037611e-01],\n",
       "       [3.95425349e-01],\n",
       "       [5.67999005e-01],\n",
       "       [4.39881384e-02],\n",
       "       [1.94013119e-05],\n",
       "       [4.17232513e-07],\n",
       "       [9.65666175e-02],\n",
       "       [7.32328296e-02],\n",
       "       [0.00000000e+00],\n",
       "       [6.25703573e-01],\n",
       "       [0.00000000e+00],\n",
       "       [4.76363599e-02],\n",
       "       [2.63812244e-02],\n",
       "       [8.90029669e-02],\n",
       "       [0.00000000e+00],\n",
       "       [0.00000000e+00],\n",
       "       [6.25037611e-01],\n",
       "       [2.08616257e-07],\n",
       "       [6.25037611e-01],\n",
       "       [0.00000000e+00],\n",
       "       [5.50857782e-02],\n",
       "       [5.70952296e-01],\n",
       "       [6.25037611e-01],\n",
       "       [5.00088930e-03],\n",
       "       [4.58031893e-04],\n",
       "       [1.69833213e-01],\n",
       "       [1.70213759e-01],\n",
       "       [3.00486326e-01],\n",
       "       [3.06564838e-01],\n",
       "       [3.54942679e-02],\n",
       "       [7.32839108e-05],\n",
       "       [0.00000000e+00],\n",
       "       [2.98023224e-07],\n",
       "       [0.00000000e+00],\n",
       "       [5.60374498e-01],\n",
       "       [6.92307949e-05],\n",
       "       [2.27484554e-01],\n",
       "       [6.25037611e-01],\n",
       "       [6.65145755e-01],\n",
       "       [3.89588386e-01],\n",
       "       [6.00018084e-01],\n",
       "       [3.66296470e-02],\n",
       "       [6.31689370e-01],\n",
       "       [6.11052930e-01],\n",
       "       [5.98321974e-01],\n",
       "       [2.64548600e-01],\n",
       "       [5.11705875e-05],\n",
       "       [4.96384203e-02],\n",
       "       [2.66140342e-01],\n",
       "       [1.59403980e-01],\n",
       "       [8.48174095e-05],\n",
       "       [1.10217929e-03],\n",
       "       [6.26595497e-01],\n",
       "       [6.09081209e-01],\n",
       "       [4.47757840e-02],\n",
       "       [0.00000000e+00],\n",
       "       [2.05919743e-01],\n",
       "       [3.48612666e-03],\n",
       "       [1.46002233e-01],\n",
       "       [0.00000000e+00],\n",
       "       [2.08616257e-07],\n",
       "       [5.53209245e-01],\n",
       "       [2.62529254e-02],\n",
       "       [6.25615656e-01],\n",
       "       [9.29534435e-05],\n",
       "       [4.55975533e-06],\n",
       "       [2.15196103e-01],\n",
       "       [6.25037611e-01],\n",
       "       [1.98391080e-03],\n",
       "       [4.04788107e-01],\n",
       "       [0.00000000e+00],\n",
       "       [4.97127354e-01],\n",
       "       [3.40759754e-04],\n",
       "       [1.27347291e-01],\n",
       "       [0.00000000e+00],\n",
       "       [0.00000000e+00],\n",
       "       [0.00000000e+00],\n",
       "       [5.96169651e-01],\n",
       "       [5.46734333e-02],\n",
       "       [6.25037611e-01],\n",
       "       [2.11654663e-01],\n",
       "       [0.00000000e+00],\n",
       "       [6.28818214e-01],\n",
       "       [6.93014860e-02],\n",
       "       [1.43051147e-06],\n",
       "       [0.00000000e+00],\n",
       "       [9.41395760e-04],\n",
       "       [2.69410014e-03],\n",
       "       [1.55153871e-03],\n",
       "       [6.25576377e-01],\n",
       "       [1.54467523e-02],\n",
       "       [2.96604633e-03],\n",
       "       [6.25037611e-01],\n",
       "       [2.98023224e-08],\n",
       "       [0.00000000e+00],\n",
       "       [0.00000000e+00],\n",
       "       [1.19209290e-07],\n",
       "       [5.18590212e-02],\n",
       "       [7.29215145e-03],\n",
       "       [6.09633327e-01],\n",
       "       [2.30067819e-02]], dtype=float32)"
      ]
     },
     "metadata": {},
     "execution_count": 16
    }
   ],
   "source": [
    "model.predict(X_train)"
   ]
  },
  {
   "cell_type": "code",
   "execution_count": null,
   "metadata": {},
   "outputs": [],
   "source": []
  }
 ],
 "metadata": {
  "kernelspec": {
   "name": "python377jvsc74a57bd0a8f61be024eba58adef938c9aa1e29e02cb3dece83a5348b1a2dafd16a070453",
   "display_name": "Python 3.7.7 64-bit (conda)"
  },
  "language_info": {
   "codemirror_mode": {
    "name": "ipython",
    "version": 3
   },
   "file_extension": ".py",
   "mimetype": "text/x-python",
   "name": "python",
   "nbconvert_exporter": "python",
   "pygments_lexer": "ipython3",
   "version": "3.7.7-final"
  }
 },
 "nbformat": 4,
 "nbformat_minor": 2
}