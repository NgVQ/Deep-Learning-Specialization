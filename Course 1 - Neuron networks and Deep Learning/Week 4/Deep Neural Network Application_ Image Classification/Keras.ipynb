{
 "cells": [
  {
   "cell_type": "code",
   "execution_count": 1,
   "metadata": {},
   "outputs": [
    {
     "output_type": "stream",
     "name": "stderr",
     "text": [
      "Using TensorFlow backend.\n"
     ]
    }
   ],
   "source": [
    "import tensorflow as tf\n",
    "from keras import layers\n",
    "from keras.layers import Input, Dense, Activation, ZeroPadding2D, BatchNormalization, Flatten, Conv2D\n",
    "from keras.layers import AveragePooling2D, MaxPooling2D, Dropout, GlobalMaxPooling2D, GlobalAveragePooling2D\n",
    "from keras.preprocessing import image\n",
    "import time\n",
    "import numpy as np\n",
    "import h5py\n",
    "import matplotlib.pyplot as plt\n",
    "import scipy\n",
    "from PIL import Image\n",
    "from scipy import ndimage\n",
    "from dnn_app_utils_v3 import *\n"
   ]
  },
  {
   "cell_type": "code",
   "execution_count": 2,
   "metadata": {},
   "outputs": [
    {
     "output_type": "stream",
     "name": "stdout",
     "text": [
      "number of training examples = 209\nnumber of test examples = 50\nX_train shape: (209, 64, 64, 3)\nY_train shape: (209, 1)\nX_test shape: (50, 64, 64, 3)\nY_test shape: (50, 1)\n"
     ]
    }
   ],
   "source": [
    "X_train_orig, Y_train_orig, X_test_orig, Y_test_orig, classes = load_data()\n",
    "\n",
    "# Normalize image vectors\n",
    "X_train = X_train_orig/255.\n",
    "X_test = X_test_orig/255.\n",
    "\n",
    "# Reshape\n",
    "Y_train = Y_train_orig.T\n",
    "Y_test = Y_test_orig.T\n",
    "\n",
    "print (\"number of training examples = \" + str(X_train.shape[0]))\n",
    "print (\"number of test examples = \" + str(X_test.shape[0]))\n",
    "print (\"X_train shape: \" + str(X_train.shape))\n",
    "print (\"Y_train shape: \" + str(Y_train.shape))\n",
    "print (\"X_test shape: \" + str(X_test.shape))\n",
    "print (\"Y_test shape: \" + str(Y_test.shape))"
   ]
  },
  {
   "cell_type": "code",
   "execution_count": 5,
   "metadata": {},
   "outputs": [
    {
     "output_type": "stream",
     "name": "stdout",
     "text": [
      "Train on 209 samples\n",
      "Epoch 1/10\n",
      "209/209 [==============================] - 27s 130ms/sample - loss: 1.9913 - acc: 0.5407\n",
      "Epoch 2/10\n",
      "209/209 [==============================] - 25s 117ms/sample - loss: 2.0982 - acc: 0.5837\n",
      "Epoch 3/10\n",
      "209/209 [==============================] - 26s 122ms/sample - loss: 0.8150 - acc: 0.6029\n",
      "Epoch 4/10\n",
      "209/209 [==============================] - 25s 120ms/sample - loss: 0.5838 - acc: 0.6986\n",
      "Epoch 5/10\n",
      "209/209 [==============================] - 26s 124ms/sample - loss: 0.5736 - acc: 0.7225\n",
      "Epoch 6/10\n",
      "209/209 [==============================] - 33s 156ms/sample - loss: 0.6480 - acc: 0.7608\n",
      "Epoch 7/10\n",
      "209/209 [==============================] - 37s 176ms/sample - loss: 0.6347 - acc: 0.7177\n",
      "Epoch 8/10\n",
      "209/209 [==============================] - 27s 130ms/sample - loss: 0.7163 - acc: 0.6459\n",
      "Epoch 9/10\n",
      "209/209 [==============================] - 26s 123ms/sample - loss: 0.5126 - acc: 0.7751\n",
      "Epoch 10/10\n",
      "209/209 [==============================] - 24s 115ms/sample - loss: 0.5790 - acc: 0.7033\n"
     ]
    },
    {
     "output_type": "execute_result",
     "data": {
      "text/plain": [
       "<tensorflow.python.keras.callbacks.History at 0x1d6d8b23748>"
      ]
     },
     "metadata": {},
     "execution_count": 5
    }
   ],
   "source": [
    "model = tf.keras.models.Sequential(\n",
    "    [\n",
    "        tf.keras.layers.Flatten(input_shape = (64,64,3)),\n",
    "        tf.keras.layers.Dense(12288 ,activation = 'relu'),\n",
    "        tf.keras.layers.Dense(20,activation ='relu'),\n",
    "        tf.keras.layers.Dense(7, activation = 'relu'),\n",
    "        tf.keras.layers.Dense(5, activation = 'relu'),\n",
    "        tf.keras.layers.Dense(1, activation = 'sigmoid')\n",
    "    ])\n",
    "model.compile(optimizer = 'adam', loss='binary_crossentropy', metrics=['acc'])\n",
    "model.fit(X_train,Y_train,epochs = 10,batch_size = 5)"
   ]
  },
  {
   "cell_type": "code",
   "execution_count": 4,
   "metadata": {},
   "outputs": [
    {
     "output_type": "stream",
     "name": "stdout",
     "text": [
      "Model: \"sequential\"\n_________________________________________________________________\nLayer (type)                 Output Shape              Param #   \n=================================================================\nflatten (Flatten)            (None, 12288)             0         \n_________________________________________________________________\ndense (Dense)                (None, 12288)             151007232 \n_________________________________________________________________\ndense_1 (Dense)              (None, 20)                245780    \n_________________________________________________________________\ndense_2 (Dense)              (None, 7)                 147       \n_________________________________________________________________\ndense_3 (Dense)              (None, 5)                 40        \n_________________________________________________________________\ndense_4 (Dense)              (None, 1)                 6         \n=================================================================\nTotal params: 151,253,205\nTrainable params: 151,253,205\nNon-trainable params: 0\n_________________________________________________________________\n"
     ]
    }
   ],
   "source": [
    "model.summary()"
   ]
  },
  {
   "cell_type": "code",
   "execution_count": 5,
   "metadata": {},
   "outputs": [
    {
     "output_type": "stream",
     "name": "stdout",
     "text": [
      "50/50 [==============================] - 0s 4ms/sample - loss: 0.7118 - acc: 0.5800\n"
     ]
    },
    {
     "output_type": "execute_result",
     "data": {
      "text/plain": [
       "[0.7117749094963074, 0.58]"
      ]
     },
     "metadata": {},
     "execution_count": 5
    }
   ],
   "source": [
    "model.evaluate(X_test,Y_test)"
   ]
  },
  {
   "cell_type": "code",
   "execution_count": 7,
   "metadata": {},
   "outputs": [
    {
     "output_type": "execute_result",
     "data": {
      "text/plain": [
       "array([[0.42227006],\n",
       "       [0.5672144 ],\n",
       "       [0.46308902],\n",
       "       [0.4014896 ],\n",
       "       [0.36093408],\n",
       "       [0.26401842],\n",
       "       [0.6054552 ],\n",
       "       [0.63957274],\n",
       "       [0.5151895 ],\n",
       "       [0.47766346],\n",
       "       [0.31888455],\n",
       "       [0.5945158 ],\n",
       "       [0.38578302],\n",
       "       [0.13776746],\n",
       "       [0.5442978 ],\n",
       "       [0.22645044],\n",
       "       [0.5136956 ],\n",
       "       [0.14233226],\n",
       "       [0.11077961],\n",
       "       [0.4638765 ],\n",
       "       [0.18929705],\n",
       "       [0.109828  ],\n",
       "       [0.32309967],\n",
       "       [0.560453  ],\n",
       "       [0.5173493 ],\n",
       "       [0.22975019],\n",
       "       [0.22281095],\n",
       "       [0.3252133 ],\n",
       "       [0.35296622],\n",
       "       [0.30406886],\n",
       "       [0.48550734],\n",
       "       [0.60709095],\n",
       "       [0.3701905 ],\n",
       "       [0.40886447],\n",
       "       [0.18644518],\n",
       "       [0.32637045],\n",
       "       [0.5585936 ],\n",
       "       [0.36789408],\n",
       "       [0.1815975 ],\n",
       "       [0.35779256],\n",
       "       [0.57744867],\n",
       "       [0.32035285],\n",
       "       [0.21262255],\n",
       "       [0.5659865 ],\n",
       "       [0.27556717],\n",
       "       [0.29921836],\n",
       "       [0.4922452 ],\n",
       "       [0.40042472],\n",
       "       [0.225528  ]], dtype=float32)"
      ]
     },
     "metadata": {},
     "execution_count": 7
    }
   ],
   "source": [
    "model.predict(X_test[1::])"
   ]
  },
  {
   "cell_type": "code",
   "execution_count": null,
   "metadata": {},
   "outputs": [],
   "source": []
  }
 ],
 "metadata": {
  "kernelspec": {
   "display_name": "Python 3",
   "language": "python",
   "name": "python3"
  },
  "language_info": {
   "codemirror_mode": {
    "name": "ipython",
    "version": 3
   },
   "file_extension": ".py",
   "mimetype": "text/x-python",
   "name": "python",
   "nbconvert_exporter": "python",
   "pygments_lexer": "ipython3",
   "version": "3.7.7-final"
  }
 },
 "nbformat": 4,
 "nbformat_minor": 2
}